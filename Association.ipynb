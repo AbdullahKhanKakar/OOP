{
 "cells": [
  {
   "cell_type": "markdown",
   "id": "8d55356b",
   "metadata": {},
   "source": [
    "# Association Practice"
   ]
  },
  {
   "cell_type": "code",
   "execution_count": 8,
   "id": "9908da95",
   "metadata": {},
   "outputs": [],
   "source": [
    "class Employer:\n",
    "    def __init__(self, name, age, pay):\n",
    "        self.name = name\n",
    "        self.age = age\n",
    "        self.pay = pay\n",
    "\n",
    "class Employee:\n",
    "    def __init__(self, name, age, pay):\n",
    "        self.name = name\n",
    "        self.age = age\n",
    "        self.pay = pay\n",
    "    def pay(self):\n",
    "        self.p = self.pay\n",
    "        return self.pay\n",
    "    def pay_difference(self, other_emp):\n",
    "        return other_emp.pay - self.pay\n",
    "    def age_difference(self, other_emp):\n",
    "        return other_emp.age - self.age"
   ]
  },
  {
   "cell_type": "code",
   "execution_count": 9,
   "id": "a05a2077",
   "metadata": {},
   "outputs": [],
   "source": [
    "ali = Employer(\"ALI\",34,98000)\n",
    "usman = Employee(\"USMAN\",25,50000)"
   ]
  },
  {
   "cell_type": "code",
   "execution_count": 10,
   "id": "bf77d47a",
   "metadata": {},
   "outputs": [
    {
     "data": {
      "text/plain": [
       "48000"
      ]
     },
     "execution_count": 10,
     "metadata": {},
     "output_type": "execute_result"
    }
   ],
   "source": [
    "usman.pay_difference(ali)"
   ]
  },
  {
   "cell_type": "code",
   "execution_count": 11,
   "id": "5b722668",
   "metadata": {},
   "outputs": [
    {
     "data": {
      "text/plain": [
       "9"
      ]
     },
     "execution_count": 11,
     "metadata": {},
     "output_type": "execute_result"
    }
   ],
   "source": [
    "usman.age_difference(ali)"
   ]
  },
  {
   "cell_type": "markdown",
   "id": "a8d992ac",
   "metadata": {},
   "source": [
    "# Static/Class Variable"
   ]
  },
  {
   "cell_type": "code",
   "execution_count": 16,
   "id": "48cc05d3",
   "metadata": {},
   "outputs": [],
   "source": [
    "class Student:\n",
    "    no_of_students = 0\n",
    "    \n",
    "    def __init__(self, name, class_):\n",
    "        self.name = name\n",
    "        self.class_ = class_\n",
    "        Student.no_of_students += 1"
   ]
  },
  {
   "cell_type": "code",
   "execution_count": 17,
   "id": "1e442f37",
   "metadata": {},
   "outputs": [],
   "source": [
    "s1 = Student(\"Abdullah\",\"12\")\n",
    "s2 = Student(\"Ali\",\"7\")\n",
    "s3 = Student(\"Bilal\",\"14\")"
   ]
  },
  {
   "cell_type": "code",
   "execution_count": 18,
   "id": "589bac0d",
   "metadata": {},
   "outputs": [
    {
     "data": {
      "text/plain": [
       "3"
      ]
     },
     "execution_count": 18,
     "metadata": {},
     "output_type": "execute_result"
    }
   ],
   "source": [
    "Student.no_of_students"
   ]
  },
  {
   "cell_type": "code",
   "execution_count": 20,
   "id": "17ee6c00",
   "metadata": {},
   "outputs": [],
   "source": [
    "s1.no_of_students = 99"
   ]
  },
  {
   "cell_type": "code",
   "execution_count": 23,
   "id": "00a7d71c",
   "metadata": {},
   "outputs": [],
   "source": [
    "Student.no_of_students = 88"
   ]
  },
  {
   "cell_type": "code",
   "execution_count": 24,
   "id": "0b84ab38",
   "metadata": {},
   "outputs": [
    {
     "data": {
      "text/plain": [
       "88"
      ]
     },
     "execution_count": 24,
     "metadata": {},
     "output_type": "execute_result"
    }
   ],
   "source": [
    "s2.no_of_students"
   ]
  },
  {
   "cell_type": "code",
   "execution_count": 26,
   "id": "d75f0f8e",
   "metadata": {},
   "outputs": [
    {
     "data": {
      "text/plain": [
       "99"
      ]
     },
     "execution_count": 26,
     "metadata": {},
     "output_type": "execute_result"
    }
   ],
   "source": [
    "s1.no_of_students"
   ]
  },
  {
   "cell_type": "code",
   "execution_count": null,
   "id": "f5b2748c",
   "metadata": {},
   "outputs": [],
   "source": []
  }
 ],
 "metadata": {
  "kernelspec": {
   "display_name": "Python 3 (ipykernel)",
   "language": "python",
   "name": "python3"
  },
  "language_info": {
   "codemirror_mode": {
    "name": "ipython",
    "version": 3
   },
   "file_extension": ".py",
   "mimetype": "text/x-python",
   "name": "python",
   "nbconvert_exporter": "python",
   "pygments_lexer": "ipython3",
   "version": "3.11.3"
  }
 },
 "nbformat": 4,
 "nbformat_minor": 5
}
