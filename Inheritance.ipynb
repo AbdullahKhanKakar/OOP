{
 "cells": [
  {
   "cell_type": "markdown",
   "id": "aa6dc4f7",
   "metadata": {},
   "source": [
    "# Inheritance Practice"
   ]
  },
  {
   "cell_type": "code",
   "execution_count": 36,
   "id": "86583ee5",
   "metadata": {},
   "outputs": [],
   "source": [
    "class Person:\n",
    "    def __init__(self, name, age):\n",
    "        self.name = name\n",
    "        self.age = age\n",
    "    def details(self):\n",
    "        return f\"{self.name} has age {self.age}\"\n",
    "\n",
    "class P1(Person):\n",
    "    def print_detail(self):\n",
    "        print(\"P1 is called\")"
   ]
  },
  {
   "cell_type": "code",
   "execution_count": 37,
   "id": "b7dd1325",
   "metadata": {},
   "outputs": [],
   "source": [
    "p1 = P1(\"Abdullah\",\"12\")"
   ]
  },
  {
   "cell_type": "code",
   "execution_count": 39,
   "id": "367f7d1e",
   "metadata": {},
   "outputs": [
    {
     "name": "stdout",
     "output_type": "stream",
     "text": [
      "P1 is called\n"
     ]
    }
   ],
   "source": [
    "p1.print_detail()"
   ]
  },
  {
   "cell_type": "code",
   "execution_count": 40,
   "id": "707781b5",
   "metadata": {},
   "outputs": [
    {
     "data": {
      "text/plain": [
       "'Abdullah has age 12'"
      ]
     },
     "execution_count": 40,
     "metadata": {},
     "output_type": "execute_result"
    }
   ],
   "source": [
    "p1.details()"
   ]
  },
  {
   "cell_type": "code",
   "execution_count": 88,
   "id": "ab2a7805",
   "metadata": {},
   "outputs": [
    {
     "name": "stdout",
     "output_type": "stream",
     "text": [
      "Father name is John and father child is Alice\n",
      "Child name is Bob and child father name is John\n"
     ]
    }
   ],
   "source": [
    "class Father:\n",
    "    def __init__(self, f_name, child_name):\n",
    "        self.f_name = f_name\n",
    "        self.child_name = child_name\n",
    "\n",
    "    def details_father(self):\n",
    "        return f\"Father name is {self.f_name} and father child is {self.child_name}\"\n",
    "\n",
    "class Child(Father):\n",
    "    def __init__(self, f_name, child_name, c_name, father_name):\n",
    "        super().__init__(f_name, child_name)  # Use super() to call the parent class's __init__ method\n",
    "        self.c_name = c_name\n",
    "        self.father_name = father_name\n",
    "\n",
    "    def details_child(self):\n",
    "        return f\"Child name is {self.c_name} and child father name is {self.father_name}\"\n",
    "\n",
    "# Example usage:\n",
    "father = Father(\"John\", \"Alice\")\n",
    "child = Child(\"John\", \"Alice\", \"Bob\", \"John\")\n",
    "\n",
    "print(father.details_father())\n",
    "print(child.details_child())\n"
   ]
  },
  {
   "cell_type": "markdown",
   "id": "a59fec9c",
   "metadata": {},
   "source": [
    "# Types of Inheritance"
   ]
  },
  {
   "cell_type": "markdown",
   "id": "630be463",
   "metadata": {},
   "source": [
    "## 1. Single Level"
   ]
  },
  {
   "cell_type": "code",
   "execution_count": 90,
   "id": "f05d6889",
   "metadata": {},
   "outputs": [],
   "source": [
    "class Parent:\n",
    "    def parent_fun(self):\n",
    "        print(\"Parent Method is called\")\n",
    "\n",
    "class Child(Parent):\n",
    "    def child_fun(self):\n",
    "        print(\"Child Method is called\")"
   ]
  },
  {
   "cell_type": "code",
   "execution_count": 91,
   "id": "222fda43",
   "metadata": {},
   "outputs": [],
   "source": [
    "c = Child()"
   ]
  },
  {
   "cell_type": "code",
   "execution_count": 92,
   "id": "4177f5f8",
   "metadata": {},
   "outputs": [
    {
     "name": "stdout",
     "output_type": "stream",
     "text": [
      "Parent Method is called\n"
     ]
    }
   ],
   "source": [
    "c.parent_fun()"
   ]
  },
  {
   "cell_type": "code",
   "execution_count": 93,
   "id": "9d477738",
   "metadata": {},
   "outputs": [
    {
     "name": "stdout",
     "output_type": "stream",
     "text": [
      "Child Method is called\n"
     ]
    }
   ],
   "source": [
    "c.child_fun()"
   ]
  },
  {
   "cell_type": "markdown",
   "id": "8cd7c579",
   "metadata": {},
   "source": [
    "## 2. Multiple Level"
   ]
  },
  {
   "cell_type": "code",
   "execution_count": 96,
   "id": "2d56b131",
   "metadata": {},
   "outputs": [],
   "source": [
    "class Mother:\n",
    "    def __init__(self, m_name):\n",
    "        self.m_name = m_name\n",
    "        \n",
    "class Father:\n",
    "    def __init__(self, f_name):\n",
    "        self.f_name = f_name\n",
    "        \n",
    "class Child(Mother, Father):\n",
    "    def __init__(self, c_name, f_name, m_name):\n",
    "        self.c_name = c_name\n",
    "        Father.__init__(self,f_name)\n",
    "        Mother.__init__(self,m_name)\n",
    "    def details(self):\n",
    "        print(f\"{self.c_name} mother is {self.m_name} and father is {self.f_name}\")"
   ]
  },
  {
   "cell_type": "code",
   "execution_count": 97,
   "id": "d768bd17",
   "metadata": {},
   "outputs": [],
   "source": [
    "abdullah = Child(\"Abdullah\",\"Sanaullah\",\"Nasreen\")"
   ]
  },
  {
   "cell_type": "code",
   "execution_count": 98,
   "id": "b643137a",
   "metadata": {},
   "outputs": [
    {
     "name": "stdout",
     "output_type": "stream",
     "text": [
      "Abdullah mother is Nasreen and father is Sanaullah\n"
     ]
    }
   ],
   "source": [
    "abdullah.details()"
   ]
  },
  {
   "cell_type": "markdown",
   "id": "2e9adc92",
   "metadata": {},
   "source": [
    "## 3. Multi Level"
   ]
  },
  {
   "cell_type": "code",
   "execution_count": 99,
   "id": "e6f345c2",
   "metadata": {},
   "outputs": [],
   "source": [
    "class GrandFather:\n",
    "    def __init__(self, grandfather):\n",
    "        self.grandfather = grandfather\n",
    "        \n",
    "class Father(GrandFather):\n",
    "    def __init__(self, father, grandfather):\n",
    "        self.father = father\n",
    "        GrandFather.__init__(self, grandfather)\n",
    "    def father_details(self):\n",
    "        print(f\"{self.father} father name is {self.grandfather}\")\n",
    "        \n",
    "class Child(Father):\n",
    "    def __init__(self, child, father, grandfather):\n",
    "        self.child = child\n",
    "        Father.__init__(self, father, grandfather)\n",
    "    def child_details(self):\n",
    "        print(f\"{self.child} father name is {self.father} and grand father name is {self.grandfather}\")"
   ]
  },
  {
   "cell_type": "code",
   "execution_count": 100,
   "id": "eabcda22",
   "metadata": {},
   "outputs": [],
   "source": [
    "c = Child(\"Abdullah\",\"Sanaullah\",\"Nazeer Ahmad\")"
   ]
  },
  {
   "cell_type": "code",
   "execution_count": 101,
   "id": "3252d3de",
   "metadata": {},
   "outputs": [
    {
     "name": "stdout",
     "output_type": "stream",
     "text": [
      "Abdullah father name is Sanaullah and grand father name is Nazeer Ahmad\n"
     ]
    }
   ],
   "source": [
    "c.child_details()"
   ]
  },
  {
   "cell_type": "code",
   "execution_count": 102,
   "id": "ee035ac4",
   "metadata": {},
   "outputs": [],
   "source": [
    "f = Father(\"Sanaullah\",\"Nazeer Ahmad\")"
   ]
  },
  {
   "cell_type": "code",
   "execution_count": 103,
   "id": "f394340d",
   "metadata": {},
   "outputs": [
    {
     "name": "stdout",
     "output_type": "stream",
     "text": [
      "Sanaullah father name is Nazeer Ahmad\n"
     ]
    }
   ],
   "source": [
    "f.father_details()"
   ]
  },
  {
   "cell_type": "markdown",
   "id": "0de39b83",
   "metadata": {},
   "source": [
    "## 4. Hierarchal Inheritance"
   ]
  },
  {
   "cell_type": "code",
   "execution_count": 105,
   "id": "f29afeb2",
   "metadata": {},
   "outputs": [],
   "source": [
    "class Parent:\n",
    "    def fun1(self):\n",
    "        print(\"Parent Method is called\")\n",
    "        \n",
    "class Child1(Parent):\n",
    "    def fun2(self):\n",
    "        print(\"Child 1 Method is called\")\n",
    "        \n",
    "class Child2(Parent):\n",
    "    def fun3(self):\n",
    "        print(\"Child 2 Method is called\")"
   ]
  },
  {
   "cell_type": "code",
   "execution_count": 106,
   "id": "0c77b726",
   "metadata": {},
   "outputs": [],
   "source": [
    "c1 = Child1()\n",
    "c2 = Child2()"
   ]
  },
  {
   "cell_type": "code",
   "execution_count": 107,
   "id": "e6c96039",
   "metadata": {},
   "outputs": [
    {
     "name": "stdout",
     "output_type": "stream",
     "text": [
      "Parent Method is called\n"
     ]
    }
   ],
   "source": [
    "c1.fun1()"
   ]
  },
  {
   "cell_type": "code",
   "execution_count": 108,
   "id": "3999ff6b",
   "metadata": {},
   "outputs": [
    {
     "name": "stdout",
     "output_type": "stream",
     "text": [
      "Parent Method is called\n"
     ]
    }
   ],
   "source": [
    "c2.fun1()"
   ]
  },
  {
   "cell_type": "markdown",
   "id": "af406f82",
   "metadata": {},
   "source": [
    "## 5. Hybrid Inheritance"
   ]
  },
  {
   "cell_type": "code",
   "execution_count": 111,
   "id": "5a105d03",
   "metadata": {},
   "outputs": [],
   "source": [
    "class School:\n",
    "    def fun1(self):\n",
    "        print(\"School method is called\")\n",
    "        \n",
    "class Student1(School):\n",
    "    def s1_fun(self):\n",
    "        print(\"Student 1 method is called\")\n",
    "        \n",
    "class Student2(School):\n",
    "    def s2_fun(self):\n",
    "        print(\"Student 2 method is called\")\n",
    "        \n",
    "class Student3(Student1):\n",
    "    def s3_fun(self):\n",
    "        print(\"Student 3 method is called\")"
   ]
  },
  {
   "cell_type": "code",
   "execution_count": 112,
   "id": "1e454462",
   "metadata": {},
   "outputs": [],
   "source": [
    "s3 = Student3()"
   ]
  },
  {
   "cell_type": "code",
   "execution_count": 113,
   "id": "ac669438",
   "metadata": {},
   "outputs": [
    {
     "name": "stdout",
     "output_type": "stream",
     "text": [
      "School method is called\n"
     ]
    }
   ],
   "source": [
    "s3.fun1()"
   ]
  },
  {
   "cell_type": "code",
   "execution_count": 114,
   "id": "d7979456",
   "metadata": {},
   "outputs": [
    {
     "name": "stdout",
     "output_type": "stream",
     "text": [
      "Student 1 method is called\n"
     ]
    }
   ],
   "source": [
    "s3.s1_fun()"
   ]
  },
  {
   "cell_type": "code",
   "execution_count": null,
   "id": "8d280ca2",
   "metadata": {},
   "outputs": [],
   "source": []
  }
 ],
 "metadata": {
  "kernelspec": {
   "display_name": "Python 3 (ipykernel)",
   "language": "python",
   "name": "python3"
  },
  "language_info": {
   "codemirror_mode": {
    "name": "ipython",
    "version": 3
   },
   "file_extension": ".py",
   "mimetype": "text/x-python",
   "name": "python",
   "nbconvert_exporter": "python",
   "pygments_lexer": "ipython3",
   "version": "3.11.3"
  }
 },
 "nbformat": 4,
 "nbformat_minor": 5
}
