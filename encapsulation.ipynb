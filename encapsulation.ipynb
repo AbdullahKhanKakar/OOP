{
 "cells": [
  {
   "cell_type": "code",
   "execution_count": 19,
   "id": "71e22756",
   "metadata": {},
   "outputs": [],
   "source": [
    "class Student:\n",
    "    def __init__(self,Name,Age,Qualification):\n",
    "        self.__name = Name\n",
    "        self.__age = Age\n",
    "        self.__qualification = Qualification\n",
    "\n",
    "    def info(self):\n",
    "        print(f\"Student name is ({self.__name}) and age is ({self.__age}) and qualification is ({self.__qualification})\")\n",
    "\n",
    "    def get_name(self):\n",
    "        return self.__name\n",
    "    def set_name(self,name):\n",
    "        self.__name = name"
   ]
  },
  {
   "cell_type": "code",
   "execution_count": 20,
   "id": "9a22525f",
   "metadata": {},
   "outputs": [],
   "source": [
    "obj = Student(\"Abdullah khan kakar\",23,\"Intermediate\")"
   ]
  },
  {
   "cell_type": "code",
   "execution_count": 21,
   "id": "26204355",
   "metadata": {},
   "outputs": [],
   "source": [
    "obj._Student__name = \"Ali\""
   ]
  },
  {
   "cell_type": "code",
   "execution_count": 22,
   "id": "d7c3751c",
   "metadata": {},
   "outputs": [
    {
     "data": {
      "text/plain": [
       "'Ali'"
      ]
     },
     "execution_count": 22,
     "metadata": {},
     "output_type": "execute_result"
    }
   ],
   "source": [
    "obj.get_name()"
   ]
  },
  {
   "cell_type": "code",
   "execution_count": 23,
   "id": "7f728ef7",
   "metadata": {},
   "outputs": [],
   "source": [
    "obj.__name = \"Haider\""
   ]
  },
  {
   "cell_type": "code",
   "execution_count": 24,
   "id": "a70deada",
   "metadata": {},
   "outputs": [
    {
     "data": {
      "text/plain": [
       "'Ali'"
      ]
     },
     "execution_count": 24,
     "metadata": {},
     "output_type": "execute_result"
    }
   ],
   "source": [
    "obj.get_name()"
   ]
  },
  {
   "cell_type": "code",
   "execution_count": 25,
   "id": "8c0694fa",
   "metadata": {},
   "outputs": [],
   "source": [
    "obj.set_name(\"Shafiq khan\")"
   ]
  },
  {
   "cell_type": "code",
   "execution_count": 26,
   "id": "b9c87449",
   "metadata": {},
   "outputs": [
    {
     "data": {
      "text/plain": [
       "'Shafiq khan'"
      ]
     },
     "execution_count": 26,
     "metadata": {},
     "output_type": "execute_result"
    }
   ],
   "source": [
    "obj.get_name()"
   ]
  },
  {
   "cell_type": "code",
   "execution_count": 27,
   "id": "6e1369ec",
   "metadata": {},
   "outputs": [
    {
     "name": "stdout",
     "output_type": "stream",
     "text": [
      "Student name is (Shafiq khan) and age is (23) and qualification is (Intermediate)\n"
     ]
    }
   ],
   "source": [
    "obj.info()"
   ]
  },
  {
   "cell_type": "code",
   "execution_count": 28,
   "id": "ed56cb99",
   "metadata": {},
   "outputs": [
    {
     "data": {
      "text/plain": [
       "'Haider'"
      ]
     },
     "execution_count": 28,
     "metadata": {},
     "output_type": "execute_result"
    }
   ],
   "source": [
    "nm = obj.__name\n",
    "nm"
   ]
  },
  {
   "cell_type": "markdown",
   "id": "e354a37b",
   "metadata": {},
   "source": [
    "## Example"
   ]
  },
  {
   "cell_type": "code",
   "execution_count": 32,
   "id": "d4b3b0f1",
   "metadata": {},
   "outputs": [],
   "source": [
    "class Time:\n",
    "    def __init__(self,hour,minute):\n",
    "        self.hour = hour\n",
    "        self.minute = minute\n",
    "        self.set_hour(hour)\n",
    "        self.set_minute(minute)\n",
    "        self.info()\n",
    "        \n",
    "    def set_hour(self,hour):\n",
    "        if 0<=hour<=24:\n",
    "            self.hour = hour\n",
    "        else:\n",
    "            print(\"Invalid hour value\")\n",
    "            \n",
    "    def set_minute(self,minute):\n",
    "        if 0<=minute<=60:\n",
    "            self.minute = minute\n",
    "        else:\n",
    "            print(\"Invalid minute value\")\n",
    "            \n",
    "    def info(self):\n",
    "        print(f\"Hours are : ({self.hour}) and minutes are ({self.minute})\")\n",
    "    "
   ]
  },
  {
   "cell_type": "code",
   "execution_count": 33,
   "id": "25bf7ccc",
   "metadata": {},
   "outputs": [
    {
     "name": "stdout",
     "output_type": "stream",
     "text": [
      "Hours are : (12) and minutes are (45)\n"
     ]
    }
   ],
   "source": [
    "obj = Time(12,45)"
   ]
  },
  {
   "cell_type": "code",
   "execution_count": 35,
   "id": "cb38f55a",
   "metadata": {},
   "outputs": [
    {
     "name": "stdout",
     "output_type": "stream",
     "text": [
      "Invalid hour value\n",
      "Hours are : (25) and minutes are (30)\n"
     ]
    }
   ],
   "source": [
    "obj2 = Time(25,30)"
   ]
  },
  {
   "cell_type": "code",
   "execution_count": 36,
   "id": "2f069a0f",
   "metadata": {},
   "outputs": [
    {
     "data": {
      "text/plain": [
       "__main__.Time"
      ]
     },
     "execution_count": 36,
     "metadata": {},
     "output_type": "execute_result"
    }
   ],
   "source": [
    "type(obj)"
   ]
  },
  {
   "cell_type": "code",
   "execution_count": 37,
   "id": "9d2306fa",
   "metadata": {},
   "outputs": [
    {
     "data": {
      "text/plain": [
       "2368943837392"
      ]
     },
     "execution_count": 37,
     "metadata": {},
     "output_type": "execute_result"
    }
   ],
   "source": [
    "id(obj)"
   ]
  },
  {
   "cell_type": "code",
   "execution_count": 38,
   "id": "ea8852d7",
   "metadata": {},
   "outputs": [
    {
     "data": {
      "text/plain": [
       "2368943776592"
      ]
     },
     "execution_count": 38,
     "metadata": {},
     "output_type": "execute_result"
    }
   ],
   "source": [
    "id(obj2)"
   ]
  },
  {
   "cell_type": "code",
   "execution_count": 39,
   "id": "59eb4f53",
   "metadata": {},
   "outputs": [],
   "source": [
    "obj.now = \"ah\""
   ]
  },
  {
   "cell_type": "code",
   "execution_count": 40,
   "id": "7c978cdb",
   "metadata": {},
   "outputs": [
    {
     "data": {
      "text/plain": [
       "'ah'"
      ]
     },
     "execution_count": 40,
     "metadata": {},
     "output_type": "execute_result"
    }
   ],
   "source": [
    "obj.now"
   ]
  },
  {
   "cell_type": "code",
   "execution_count": 76,
   "id": "a528bff1",
   "metadata": {},
   "outputs": [],
   "source": [
    "class Greet:\n",
    "    def Ali(self):\n",
    "        self.name = \"Muhammad Faraz\"\n",
    "        self.classs = \"Matrix\"\n",
    "        \n",
    "    def Haiderr(self):\n",
    "        self.Ali()\n",
    "        print(f\"Class of {self.name} is {self.classs}\")\n",
    "    "
   ]
  },
  {
   "cell_type": "code",
   "execution_count": 77,
   "id": "3d892c30",
   "metadata": {},
   "outputs": [],
   "source": [
    "hd = Greet()"
   ]
  },
  {
   "cell_type": "code",
   "execution_count": 78,
   "id": "b01a00b2",
   "metadata": {},
   "outputs": [
    {
     "name": "stdout",
     "output_type": "stream",
     "text": [
      "Class of Muhammad Faraz is Matrix\n"
     ]
    }
   ],
   "source": [
    "hd.Haiderr()"
   ]
  },
  {
   "cell_type": "code",
   "execution_count": 59,
   "id": "fc7be164",
   "metadata": {},
   "outputs": [
    {
     "name": "stdout",
     "output_type": "stream",
     "text": [
      "name\n"
     ]
    }
   ],
   "source": [
    "hd.Haiderr()"
   ]
  },
  {
   "cell_type": "code",
   "execution_count": 72,
   "id": "b3a98d0d",
   "metadata": {},
   "outputs": [
    {
     "name": "stdout",
     "output_type": "stream",
     "text": [
      "True "
     ]
    }
   ],
   "source": [
    "class Test:\n",
    "    pass\n",
    " \n",
    "t1 = Test()\n",
    "t2 = Test()\n",
    "# print(t1 == t2, end=' ')\n",
    "print(type(t1) == type(t2), end=' ')"
   ]
  },
  {
   "cell_type": "code",
   "execution_count": 84,
   "id": "9c793b75",
   "metadata": {},
   "outputs": [
    {
     "name": "stdout",
     "output_type": "stream",
     "text": [
      "15\n"
     ]
    }
   ],
   "source": [
    "class Test:\n",
    "    \n",
    "    def method1(self, x):\n",
    "        self.x = x\n",
    "\n",
    "    def method2(self):\n",
    "        self.x += 10  # Corrected to self.x\n",
    "\n",
    "    def display(self):\n",
    "        print(self.x)\n",
    "\n",
    "t = Test()\n",
    "t.method1(5)\n",
    "t.method2()\n",
    "t.display()"
   ]
  },
  {
   "cell_type": "code",
   "execution_count": 91,
   "id": "d5783fc9",
   "metadata": {},
   "outputs": [],
   "source": [
    "class BankAccount:\n",
    "    def set_details(self,name,balance=0):\n",
    "        self.name = name\n",
    "        self.balance = balance\n",
    "    def display(self):\n",
    "        print(f\"Name is ({self.name}) and balance is ({self.balance})\")\n",
    "    def withdraw(self,amount):\n",
    "        if amount<=self.balance:\n",
    "            self.balance -= amount\n",
    "            print(f\"successfully withdraw Rs/.{amount}\")\n",
    "        else:\n",
    "            print(\"invalid balance\")\n",
    "    def deposit(self,amount):\n",
    "        self.balance += amount\n",
    "        print(f\"successfully deposited Rs./{amount}\")"
   ]
  },
  {
   "cell_type": "code",
   "execution_count": 92,
   "id": "056dfad5",
   "metadata": {},
   "outputs": [
    {
     "name": "stdout",
     "output_type": "stream",
     "text": [
      "Name is (Abdullah khan kakar) and balance is (0)\n",
      "successfully deposited Rs./45000\n",
      "successfully withdraw Rs/.2000\n"
     ]
    }
   ],
   "source": [
    "p1 = BankAccount()\n",
    "p1.set_details(\"Abdullah khan kakar\")\n",
    "p1.display()\n",
    "p1.deposit(45000)\n",
    "p1.withdraw(2000)"
   ]
  },
  {
   "cell_type": "code",
   "execution_count": 93,
   "id": "5d2b250f",
   "metadata": {},
   "outputs": [
    {
     "name": "stdout",
     "output_type": "stream",
     "text": [
      "Name is (Abdullah khan kakar) and balance is (43000)\n"
     ]
    }
   ],
   "source": [
    "p1.display()"
   ]
  },
  {
   "cell_type": "code",
   "execution_count": 94,
   "id": "b760a389",
   "metadata": {},
   "outputs": [
    {
     "name": "stdout",
     "output_type": "stream",
     "text": [
      "successfully withdraw Rs/.23000\n"
     ]
    }
   ],
   "source": [
    "p1.withdraw(23000)"
   ]
  },
  {
   "cell_type": "code",
   "execution_count": 95,
   "id": "bc301bf1",
   "metadata": {},
   "outputs": [
    {
     "name": "stdout",
     "output_type": "stream",
     "text": [
      "Name is (Abdullah khan kakar) and balance is (20000)\n"
     ]
    }
   ],
   "source": [
    "p1.display()"
   ]
  },
  {
   "cell_type": "code",
   "execution_count": 112,
   "id": "6270e7d9",
   "metadata": {},
   "outputs": [],
   "source": [
    "class Atm:\n",
    "    def __init__(self):\n",
    "        self.__age = 12\n",
    "    def set_details(self):\n",
    "        self.__name=\"Ali khan\"\n",
    "        self.calss=\"Matric\"\n",
    "    def info(self):\n",
    "        print(f\"{self.__name} and {self.calss}\")\n",
    "    def get_age(self):\n",
    "        return self.__age"
   ]
  },
  {
   "cell_type": "code",
   "execution_count": 113,
   "id": "29b16dce",
   "metadata": {},
   "outputs": [
    {
     "name": "stdout",
     "output_type": "stream",
     "text": [
      "Ali khan and Matric\n"
     ]
    }
   ],
   "source": [
    "p1 = Atm()\n",
    "p1.set_details()\n",
    "p1.info()"
   ]
  },
  {
   "cell_type": "code",
   "execution_count": 116,
   "id": "127a2388",
   "metadata": {},
   "outputs": [],
   "source": [
    "p1._Atm__age = 19"
   ]
  },
  {
   "cell_type": "code",
   "execution_count": 117,
   "id": "915346a5",
   "metadata": {},
   "outputs": [
    {
     "data": {
      "text/plain": [
       "19"
      ]
     },
     "execution_count": 117,
     "metadata": {},
     "output_type": "execute_result"
    }
   ],
   "source": [
    "p1.get_age()"
   ]
  },
  {
   "cell_type": "code",
   "execution_count": 119,
   "id": "7dc0e6a1",
   "metadata": {},
   "outputs": [
    {
     "ename": "AttributeError",
     "evalue": "'Atm' object has no attribute '__age'",
     "output_type": "error",
     "traceback": [
      "\u001b[1;31m---------------------------------------------------------------------------\u001b[0m",
      "\u001b[1;31mAttributeError\u001b[0m                            Traceback (most recent call last)",
      "Cell \u001b[1;32mIn[119], line 1\u001b[0m\n\u001b[1;32m----> 1\u001b[0m \u001b[43mp1\u001b[49m\u001b[38;5;241;43m.\u001b[39;49m\u001b[43m__age\u001b[49m\n",
      "\u001b[1;31mAttributeError\u001b[0m: 'Atm' object has no attribute '__age'"
     ]
    }
   ],
   "source": [
    "p1.__age"
   ]
  },
  {
   "cell_type": "code",
   "execution_count": null,
   "id": "1f70784f",
   "metadata": {},
   "outputs": [],
   "source": []
  }
 ],
 "metadata": {
  "kernelspec": {
   "display_name": "Python 3 (ipykernel)",
   "language": "python",
   "name": "python3"
  },
  "language_info": {
   "codemirror_mode": {
    "name": "ipython",
    "version": 3
   },
   "file_extension": ".py",
   "mimetype": "text/x-python",
   "name": "python",
   "nbconvert_exporter": "python",
   "pygments_lexer": "ipython3",
   "version": "3.11.3"
  }
 },
 "nbformat": 4,
 "nbformat_minor": 5
}
