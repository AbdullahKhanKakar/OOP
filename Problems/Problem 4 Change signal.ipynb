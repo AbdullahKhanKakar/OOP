{
 "cells": [
  {
   "cell_type": "code",
   "execution_count": 17,
   "id": "01e1101a",
   "metadata": {},
   "outputs": [],
   "source": [
    "class Signal:\n",
    "    def __init__(self):\n",
    "        self.red = True\n",
    "        self.yellow = False\n",
    "        self.green = False\n",
    "        print(\"Red light in ON\")\n",
    "    def change_signal(self):\n",
    "        if self.red==True and self.yellow==False and self.green==False:\n",
    "            self.yellow = True\n",
    "            self.red = False\n",
    "            self.green = False\n",
    "            print(\"Yellow light is ON\")\n",
    "        elif self.yellow==True and self.red==False and self.green==False:\n",
    "            self.green = True\n",
    "            self.red = False\n",
    "            self.yellow = False\n",
    "            print(\"Green light in ON\")\n",
    "        else:\n",
    "            self.red = True\n",
    "            self.yellow = False\n",
    "            self.green = False\n",
    "            print(\"Red light in ON\")"
   ]
  },
  {
   "cell_type": "code",
   "execution_count": 18,
   "id": "4caccf71",
   "metadata": {},
   "outputs": [
    {
     "name": "stdout",
     "output_type": "stream",
     "text": [
      "Red light in ON\n"
     ]
    }
   ],
   "source": [
    "light = Signal()"
   ]
  },
  {
   "cell_type": "code",
   "execution_count": 19,
   "id": "d7ead7ec",
   "metadata": {},
   "outputs": [
    {
     "name": "stdout",
     "output_type": "stream",
     "text": [
      "Yellow light is ON\n",
      "Green light in ON\n",
      "Red light in ON\n",
      "Yellow light is ON\n",
      "Green light in ON\n",
      "Red light in ON\n",
      "Yellow light is ON\n",
      "Green light in ON\n",
      "Red light in ON\n",
      "Yellow light is ON\n",
      "Green light in ON\n"
     ]
    }
   ],
   "source": [
    "for i in range(10+1):\n",
    "    light.change_signal()"
   ]
  },
  {
   "cell_type": "code",
   "execution_count": null,
   "id": "b6625a41",
   "metadata": {},
   "outputs": [],
   "source": []
  }
 ],
 "metadata": {
  "kernelspec": {
   "display_name": "Python 3 (ipykernel)",
   "language": "python",
   "name": "python3"
  },
  "language_info": {
   "codemirror_mode": {
    "name": "ipython",
    "version": 3
   },
   "file_extension": ".py",
   "mimetype": "text/x-python",
   "name": "python",
   "nbconvert_exporter": "python",
   "pygments_lexer": "ipython3",
   "version": "3.11.3"
  }
 },
 "nbformat": 4,
 "nbformat_minor": 5
}
