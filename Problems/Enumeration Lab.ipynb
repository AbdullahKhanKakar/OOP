{
 "cells": [
  {
   "cell_type": "markdown",
   "id": "e1e78f60",
   "metadata": {},
   "source": [
    "## Statement: Create 4 states EMPTY,PLAYING,PAUSED,STOPPED then create function for user interface so that he/she can INSERT,EJECT,PAUSED,PLAYED,STOPPED disk."
   ]
  },
  {
   "cell_type": "code",
   "execution_count": 1,
   "id": "0cb392fb",
   "metadata": {},
   "outputs": [],
   "source": [
    "from enum import Enum\n",
    "\n",
    "class states(Enum):\n",
    "    EMPTY = 1\n",
    "    PLAYED = 2\n",
    "    PAUSED = 3\n",
    "    STOPPED = 4"
   ]
  },
  {
   "cell_type": "code",
   "execution_count": 14,
   "id": "133dfebe",
   "metadata": {},
   "outputs": [
    {
     "data": {
      "text/plain": [
       "<states.EMPTY: 1>"
      ]
     },
     "execution_count": 14,
     "metadata": {},
     "output_type": "execute_result"
    }
   ],
   "source": [
    "states.EMPTY"
   ]
  },
  {
   "cell_type": "code",
   "execution_count": 23,
   "id": "b9484368",
   "metadata": {},
   "outputs": [],
   "source": [
    "class DiskPlayer:\n",
    "    def __init__(self):\n",
    "        self.state = states.EMPTY.name\n",
    "        print(\"Disk is empty\")\n",
    "    def insert_disk(self):\n",
    "        if self.state==states.PLAYED.name:\n",
    "            print(\"Disk is already inserted and is in playing condition...\")\n",
    "        elif self.state==states.STOPPED.name:\n",
    "            print(\"Disk is already inserted and is in stopped condition...\")\n",
    "        else:\n",
    "            self.state = states.PLAYED.name\n",
    "            print(\"Disk is inserted and is playing now \",self.state)\n",
    "    def eject_disk(self):\n",
    "        if self.state==states.EMPTY.name:\n",
    "            print(\"Disk is already empty...\")\n",
    "        else:\n",
    "            self.state = states.EMPTY.name\n",
    "            print(\"Disk is empty now \",self.state)\n",
    "    def play_disk(self):\n",
    "        if self.state==states.EMPTY.name:\n",
    "            print(\"You cannot play disk because disk is empty\")\n",
    "        elif self.state==states.PLAYED.name:\n",
    "            print(\"Disk is already playing\")\n",
    "        else:\n",
    "            self.state = states.PLAYED.name\n",
    "            print(\"disk is playing now \",self.state)\n",
    "    def stop_disk(self):\n",
    "        if self.state==states.EMPTY.name:\n",
    "            print(\"You cannot stop disk because disk is empty\")\n",
    "        elif self.state==states.STOPPED.name:\n",
    "            print(\"Disk is already playing\")\n",
    "        else:\n",
    "            self.state=states.STOPPED.name\n",
    "            print(\"Disk is stopped now \",self.state)"
   ]
  },
  {
   "cell_type": "code",
   "execution_count": 24,
   "id": "8bf75dcd",
   "metadata": {},
   "outputs": [
    {
     "name": "stdout",
     "output_type": "stream",
     "text": [
      "Disk is empty\n"
     ]
    }
   ],
   "source": [
    "disk = DiskPlayer()"
   ]
  },
  {
   "cell_type": "code",
   "execution_count": 25,
   "id": "6056726c",
   "metadata": {},
   "outputs": [
    {
     "name": "stdout",
     "output_type": "stream",
     "text": [
      "You cannot play disk because disk is empty\n"
     ]
    }
   ],
   "source": [
    "disk.play_disk()"
   ]
  },
  {
   "cell_type": "code",
   "execution_count": 26,
   "id": "09f0f856",
   "metadata": {},
   "outputs": [
    {
     "name": "stdout",
     "output_type": "stream",
     "text": [
      "You cannot stop disk because disk is empty\n"
     ]
    }
   ],
   "source": [
    "disk.stop_disk()"
   ]
  },
  {
   "cell_type": "code",
   "execution_count": 27,
   "id": "7fec213a",
   "metadata": {},
   "outputs": [
    {
     "name": "stdout",
     "output_type": "stream",
     "text": [
      "Disk is already empty...\n"
     ]
    }
   ],
   "source": [
    "disk.eject_disk()"
   ]
  },
  {
   "cell_type": "code",
   "execution_count": 28,
   "id": "291a1ed6",
   "metadata": {},
   "outputs": [
    {
     "name": "stdout",
     "output_type": "stream",
     "text": [
      "Disk is inserted and is playing now  PLAYED\n"
     ]
    }
   ],
   "source": [
    "disk.insert_disk()"
   ]
  },
  {
   "cell_type": "code",
   "execution_count": 29,
   "id": "debb9ac5",
   "metadata": {},
   "outputs": [
    {
     "name": "stdout",
     "output_type": "stream",
     "text": [
      "Disk is stopped now  STOPPED\n"
     ]
    }
   ],
   "source": [
    "disk.stop_disk()"
   ]
  },
  {
   "cell_type": "code",
   "execution_count": 30,
   "id": "895a6695",
   "metadata": {},
   "outputs": [
    {
     "name": "stdout",
     "output_type": "stream",
     "text": [
      "Disk is already inserted and is in stopped condition...\n"
     ]
    }
   ],
   "source": [
    "disk.insert_disk()"
   ]
  },
  {
   "cell_type": "code",
   "execution_count": 31,
   "id": "f4196829",
   "metadata": {},
   "outputs": [
    {
     "name": "stdout",
     "output_type": "stream",
     "text": [
      "disk is playing now  PLAYED\n"
     ]
    }
   ],
   "source": [
    "disk.play_disk()"
   ]
  },
  {
   "cell_type": "code",
   "execution_count": 32,
   "id": "315409db",
   "metadata": {},
   "outputs": [
    {
     "name": "stdout",
     "output_type": "stream",
     "text": [
      "Disk is empty now  EMPTY\n"
     ]
    }
   ],
   "source": [
    "disk.eject_disk()"
   ]
  },
  {
   "cell_type": "code",
   "execution_count": 33,
   "id": "400a4300",
   "metadata": {},
   "outputs": [
    {
     "name": "stdout",
     "output_type": "stream",
     "text": [
      "You cannot stop disk because disk is empty\n"
     ]
    }
   ],
   "source": [
    "disk.stop_disk()"
   ]
  },
  {
   "cell_type": "code",
   "execution_count": 34,
   "id": "286a5632",
   "metadata": {},
   "outputs": [
    {
     "name": "stdout",
     "output_type": "stream",
     "text": [
      "You cannot stop disk because disk is empty\n"
     ]
    }
   ],
   "source": [
    "disk.stop_disk()"
   ]
  },
  {
   "cell_type": "code",
   "execution_count": 35,
   "id": "0ef7c4a1",
   "metadata": {},
   "outputs": [
    {
     "name": "stdout",
     "output_type": "stream",
     "text": [
      "Disk is already empty...\n"
     ]
    }
   ],
   "source": [
    "disk.eject_disk()"
   ]
  },
  {
   "cell_type": "code",
   "execution_count": 36,
   "id": "fafb5ed2",
   "metadata": {},
   "outputs": [
    {
     "name": "stdout",
     "output_type": "stream",
     "text": [
      "Disk is inserted and is playing now  PLAYED\n"
     ]
    }
   ],
   "source": [
    "disk.insert_disk()"
   ]
  },
  {
   "cell_type": "code",
   "execution_count": null,
   "id": "c817983f",
   "metadata": {},
   "outputs": [],
   "source": []
  }
 ],
 "metadata": {
  "kernelspec": {
   "display_name": "Python 3 (ipykernel)",
   "language": "python",
   "name": "python3"
  },
  "language_info": {
   "codemirror_mode": {
    "name": "ipython",
    "version": 3
   },
   "file_extension": ".py",
   "mimetype": "text/x-python",
   "name": "python",
   "nbconvert_exporter": "python",
   "pygments_lexer": "ipython3",
   "version": "3.11.3"
  }
 },
 "nbformat": 4,
 "nbformat_minor": 5
}
