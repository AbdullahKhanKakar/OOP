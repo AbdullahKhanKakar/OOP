{
 "cells": [
  {
   "cell_type": "markdown",
   "id": "f7d2070b",
   "metadata": {},
   "source": [
    "## Statement:\n",
    "#### Write a Python program to create a class representing a Circle. Include methods to calculate its area and perimeter."
   ]
  },
  {
   "cell_type": "code",
   "execution_count": 14,
   "id": "efa84147",
   "metadata": {},
   "outputs": [
    {
     "name": "stdout",
     "output_type": "stream",
     "text": [
      "Area: 37.697 and Perimeter: 75.394\n"
     ]
    }
   ],
   "source": [
    "PI = 3.1414\n",
    "class Circle:\n",
    "    def __init__(self,Radius):\n",
    "        self.radius = Radius\n",
    "        self.area_circle()\n",
    "        self.perimeter_circle()\n",
    "    def area_circle(self):\n",
    "        return round(self.radius*PI , 3)\n",
    "    def perimeter_circle(self):\n",
    "        return round(self.radius*PI*2 , 3)\n",
    "\n",
    "    \n",
    "circle1 = Circle(12)\n",
    "area = circle1.area_circle()\n",
    "perimeter = circle1.perimeter_circle()\n",
    "print(f\"Area: {area} and Perimeter: {perimeter}\")"
   ]
  },
  {
   "cell_type": "code",
   "execution_count": null,
   "id": "11b468b9",
   "metadata": {},
   "outputs": [],
   "source": []
  }
 ],
 "metadata": {
  "kernelspec": {
   "display_name": "Python 3 (ipykernel)",
   "language": "python",
   "name": "python3"
  },
  "language_info": {
   "codemirror_mode": {
    "name": "ipython",
    "version": 3
   },
   "file_extension": ".py",
   "mimetype": "text/x-python",
   "name": "python",
   "nbconvert_exporter": "python",
   "pygments_lexer": "ipython3",
   "version": "3.11.3"
  }
 },
 "nbformat": 4,
 "nbformat_minor": 5
}
