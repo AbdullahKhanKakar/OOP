{
 "cells": [
  {
   "cell_type": "code",
   "execution_count": 10,
   "id": "0f24be3a",
   "metadata": {},
   "outputs": [],
   "source": [
    "class Page:\n",
    "    def __init__(self , lines_in_page , ink_color , words_in_line):\n",
    "        self.lines_in_page = lines_in_page\n",
    "        self.ink_color = ink_color\n",
    "        self.words_in_line = words_in_line\n",
    "    def total_words_in_page(self):\n",
    "        return self.lines_in_page*self.words_in_line\n",
    "    def get_ink_color(self):\n",
    "        return self.ink_color"
   ]
  },
  {
   "cell_type": "code",
   "execution_count": 18,
   "id": "fa3241a1",
   "metadata": {},
   "outputs": [],
   "source": [
    "class Book: \n",
    "    def __init__(self,title,pages,lines_in_page,ink_color,words_in_line):\n",
    "        self.title = title\n",
    "        self.pages = pages\n",
    "        self.obj_page = Page(lines_in_page,ink_color,words_in_line)\n",
    "    def total_words_in_book(self):\n",
    "        self.total_words_page = self.obj_page.total_words_in_page()\n",
    "        return self.total_words_page*self.pages\n",
    "    def ink_color(self):\n",
    "        return self.obj_page.get_ink_color()     "
   ]
  },
  {
   "cell_type": "code",
   "execution_count": 19,
   "id": "d56efd04",
   "metadata": {},
   "outputs": [
    {
     "name": "stdout",
     "output_type": "stream",
     "text": [
      "2880\n",
      "red\n"
     ]
    }
   ],
   "source": [
    "b1 = Book(\"Python for Entertainment\" , 12 , 30 , \"red\" , 8)\n",
    "print(b1.total_words_in_book())\n",
    "print(b1.ink_color())"
   ]
  },
  {
   "cell_type": "code",
   "execution_count": 20,
   "id": "61441ffe",
   "metadata": {},
   "outputs": [
    {
     "name": "stdout",
     "output_type": "stream",
     "text": [
      "123120\n",
      "green\n"
     ]
    }
   ],
   "source": [
    "b2 = Book(\"OOP introduction\",456,45,\"green\",6)\n",
    "print(b2.total_words_in_book())\n",
    "print(b2.ink_color())"
   ]
  },
  {
   "cell_type": "code",
   "execution_count": 21,
   "id": "352c6047",
   "metadata": {},
   "outputs": [
    {
     "data": {
      "text/plain": [
       "123120"
      ]
     },
     "execution_count": 21,
     "metadata": {},
     "output_type": "execute_result"
    }
   ],
   "source": [
    "(456*45*6)"
   ]
  },
  {
   "cell_type": "code",
   "execution_count": null,
   "id": "8ed95ae1",
   "metadata": {},
   "outputs": [],
   "source": []
  }
 ],
 "metadata": {
  "kernelspec": {
   "display_name": "Python 3 (ipykernel)",
   "language": "python",
   "name": "python3"
  },
  "language_info": {
   "codemirror_mode": {
    "name": "ipython",
    "version": 3
   },
   "file_extension": ".py",
   "mimetype": "text/x-python",
   "name": "python",
   "nbconvert_exporter": "python",
   "pygments_lexer": "ipython3",
   "version": "3.11.3"
  }
 },
 "nbformat": 4,
 "nbformat_minor": 5
}
