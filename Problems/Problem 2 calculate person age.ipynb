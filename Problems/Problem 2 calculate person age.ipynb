{
 "cells": [
  {
   "cell_type": "markdown",
   "id": "094ac212",
   "metadata": {},
   "source": [
    "## Statement:\n",
    "#### Write a Python program to create a person class. Include attributes like name, country and date of birth. Implement a method to determine the person's age."
   ]
  },
  {
   "cell_type": "code",
   "execution_count": 21,
   "id": "1569a654",
   "metadata": {},
   "outputs": [],
   "source": [
    "class Person:\n",
    "    def __init__(self,Name,Country,Birth):\n",
    "        self.name = Name\n",
    "        self.country = Country\n",
    "        self.year_of_birth = Birth\n",
    "        self.person_age()\n",
    "        \n",
    "    def person_age(self):\n",
    "        return 2023-int(self.year_of_birth)\n",
    "    def get_info(self):\n",
    "        return {\"Name\":self.name,\"Country\":self.country,\"Year of birth\":self.year_of_birth}\n",
    "    \n",
    "    def set_name(self,Name):\n",
    "        self.name = Name\n",
    "        print(\"Name successfully updated\")\n",
    "    def set_country(self,Country):\n",
    "        self.country = Country\n",
    "        print(\"Country successfully updated\")\n",
    "    def set_year_of_birth(self,Birth):\n",
    "        self.year_of_birth = Birth\n",
    "        print(\"Year of birth successfully updated\")\n",
    "\n",
    "p1 = Person(\"Abdullah Khan\",\"Pakistan\",2005)"
   ]
  },
  {
   "cell_type": "code",
   "execution_count": 22,
   "id": "8e000bd1",
   "metadata": {},
   "outputs": [
    {
     "data": {
      "text/plain": [
       "18"
      ]
     },
     "execution_count": 22,
     "metadata": {},
     "output_type": "execute_result"
    }
   ],
   "source": [
    "p1.person_age()"
   ]
  },
  {
   "cell_type": "code",
   "execution_count": 23,
   "id": "bf9d1081",
   "metadata": {},
   "outputs": [
    {
     "name": "stdout",
     "output_type": "stream",
     "text": [
      "Name : Abdullah Khan\n",
      "Country : Pakistan\n",
      "Year of birth : 2005\n"
     ]
    }
   ],
   "source": [
    "dic = p1.get_info()\n",
    "for key,value in dic.items():\n",
    "    print(f\"{key} : {value}\")"
   ]
  },
  {
   "cell_type": "code",
   "execution_count": 24,
   "id": "c090ffaa",
   "metadata": {},
   "outputs": [
    {
     "name": "stdout",
     "output_type": "stream",
     "text": [
      "Year of birth successfully updated\n"
     ]
    }
   ],
   "source": [
    "p1.set_year_of_birth(2020)"
   ]
  },
  {
   "cell_type": "code",
   "execution_count": 25,
   "id": "752897b5",
   "metadata": {},
   "outputs": [
    {
     "data": {
      "text/plain": [
       "3"
      ]
     },
     "execution_count": 25,
     "metadata": {},
     "output_type": "execute_result"
    }
   ],
   "source": [
    "p1.person_age()"
   ]
  },
  {
   "cell_type": "code",
   "execution_count": null,
   "id": "81db22fc",
   "metadata": {},
   "outputs": [],
   "source": []
  }
 ],
 "metadata": {
  "kernelspec": {
   "display_name": "Python 3 (ipykernel)",
   "language": "python",
   "name": "python3"
  },
  "language_info": {
   "codemirror_mode": {
    "name": "ipython",
    "version": 3
   },
   "file_extension": ".py",
   "mimetype": "text/x-python",
   "name": "python",
   "nbconvert_exporter": "python",
   "pygments_lexer": "ipython3",
   "version": "3.11.3"
  }
 },
 "nbformat": 4,
 "nbformat_minor": 5
}
