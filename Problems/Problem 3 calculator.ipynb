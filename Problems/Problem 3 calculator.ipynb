{
 "cells": [
  {
   "cell_type": "markdown",
   "id": "5d0b9de2",
   "metadata": {},
   "source": [
    "## Statement:\n",
    "#### Write a Python program to create a calculator class. Include methods for basic arithmetic operations."
   ]
  },
  {
   "cell_type": "code",
   "execution_count": 48,
   "id": "3906f5f5",
   "metadata": {},
   "outputs": [],
   "source": [
    "class Calculator:\n",
    "    def __init__(self,num1,num2):\n",
    "        self.number1 = num1\n",
    "        self.number2 = num2\n",
    "    def plus(self):\n",
    "        return int(self.number1)+int(self.number2)\n",
    "    def minus(self):\n",
    "        return self.number1-self.number2\n",
    "    def multiple(self):\n",
    "        return self.number1*self.number2\n",
    "    def divide(self):\n",
    "        if self.number1>self.number2:\n",
    "            return self.number1/self.number2\n",
    "        else:\n",
    "            return self.number2/self.number1"
   ]
  },
  {
   "cell_type": "code",
   "execution_count": 49,
   "id": "f77f5031",
   "metadata": {},
   "outputs": [],
   "source": [
    "obj = Calculator(12,2)"
   ]
  },
  {
   "cell_type": "code",
   "execution_count": 56,
   "id": "1f438f65",
   "metadata": {},
   "outputs": [
    {
     "data": {
      "text/plain": [
       "14"
      ]
     },
     "execution_count": 56,
     "metadata": {},
     "output_type": "execute_result"
    }
   ],
   "source": [
    "obj.plus()"
   ]
  },
  {
   "cell_type": "code",
   "execution_count": 57,
   "id": "28bb2cb8",
   "metadata": {},
   "outputs": [
    {
     "data": {
      "text/plain": [
       "10"
      ]
     },
     "execution_count": 57,
     "metadata": {},
     "output_type": "execute_result"
    }
   ],
   "source": [
    "obj.minus()"
   ]
  },
  {
   "cell_type": "code",
   "execution_count": 58,
   "id": "ffaf6e2a",
   "metadata": {},
   "outputs": [
    {
     "data": {
      "text/plain": [
       "24"
      ]
     },
     "execution_count": 58,
     "metadata": {},
     "output_type": "execute_result"
    }
   ],
   "source": [
    "obj.multiple()"
   ]
  },
  {
   "cell_type": "code",
   "execution_count": 59,
   "id": "84ab5bf3",
   "metadata": {},
   "outputs": [
    {
     "data": {
      "text/plain": [
       "6.0"
      ]
     },
     "execution_count": 59,
     "metadata": {},
     "output_type": "execute_result"
    }
   ],
   "source": [
    "obj.divide()"
   ]
  },
  {
   "cell_type": "code",
   "execution_count": 60,
   "id": "5d015148",
   "metadata": {},
   "outputs": [],
   "source": [
    "obj2 = Calculator(10,20)"
   ]
  },
  {
   "cell_type": "code",
   "execution_count": 61,
   "id": "f3b06277",
   "metadata": {},
   "outputs": [
    {
     "data": {
      "text/plain": [
       "2.0"
      ]
     },
     "execution_count": 61,
     "metadata": {},
     "output_type": "execute_result"
    }
   ],
   "source": [
    "obj2.divide()"
   ]
  },
  {
   "cell_type": "code",
   "execution_count": 68,
   "id": "dff11dc3",
   "metadata": {},
   "outputs": [],
   "source": [
    "obj3 = Calculator(50,2000)"
   ]
  },
  {
   "cell_type": "code",
   "execution_count": 69,
   "id": "a05db537",
   "metadata": {},
   "outputs": [
    {
     "data": {
      "text/plain": [
       "40.0"
      ]
     },
     "execution_count": 69,
     "metadata": {},
     "output_type": "execute_result"
    }
   ],
   "source": [
    "obj3.divide()"
   ]
  }
 ],
 "metadata": {
  "kernelspec": {
   "display_name": "Python 3 (ipykernel)",
   "language": "python",
   "name": "python3"
  },
  "language_info": {
   "codemirror_mode": {
    "name": "ipython",
    "version": 3
   },
   "file_extension": ".py",
   "mimetype": "text/x-python",
   "name": "python",
   "nbconvert_exporter": "python",
   "pygments_lexer": "ipython3",
   "version": "3.11.3"
  }
 },
 "nbformat": 4,
 "nbformat_minor": 5
}
