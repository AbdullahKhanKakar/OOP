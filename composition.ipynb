{
 "cells": [
  {
   "cell_type": "code",
   "execution_count": 1,
   "id": "7222c335",
   "metadata": {},
   "outputs": [],
   "source": [
    "class Salary:\n",
    "    def __init__(self,pay,bonus):\n",
    "        self.pay = pay\n",
    "        self.bonus = bonus\n",
    "    def salary(self):\n",
    "        return (self.pay*12)+self.bonus\n",
    "    \n",
    "class Employee:\n",
    "    def __init__(self,name,age,pay,bonus):\n",
    "        self.name = name\n",
    "        self.age = age\n",
    "        self.obj_salary = Salary(pay,bonus)\n",
    "    def total_salary(self):\n",
    "        return self.obj_salary.salary()"
   ]
  },
  {
   "cell_type": "code",
   "execution_count": 4,
   "id": "c59575dc",
   "metadata": {},
   "outputs": [
    {
     "data": {
      "text/plain": [
       "147000"
      ]
     },
     "execution_count": 4,
     "metadata": {},
     "output_type": "execute_result"
    }
   ],
   "source": [
    "emp1 = Employee(\"Abdullah\",22,12000,3000)\n",
    "emp1.total_salary()"
   ]
  },
  {
   "cell_type": "code",
   "execution_count": 6,
   "id": "d85885e7",
   "metadata": {},
   "outputs": [
    {
     "data": {
      "text/plain": [
       "282000"
      ]
     },
     "execution_count": 6,
     "metadata": {},
     "output_type": "execute_result"
    }
   ],
   "source": [
    "emp2 = Employee(\"Faraz\",25,23000,6000)\n",
    "emp2.total_salary()"
   ]
  },
  {
   "cell_type": "code",
   "execution_count": null,
   "id": "73804486",
   "metadata": {},
   "outputs": [],
   "source": []
  }
 ],
 "metadata": {
  "kernelspec": {
   "display_name": "Python 3 (ipykernel)",
   "language": "python",
   "name": "python3"
  },
  "language_info": {
   "codemirror_mode": {
    "name": "ipython",
    "version": 3
   },
   "file_extension": ".py",
   "mimetype": "text/x-python",
   "name": "python",
   "nbconvert_exporter": "python",
   "pygments_lexer": "ipython3",
   "version": "3.11.3"
  }
 },
 "nbformat": 4,
 "nbformat_minor": 5
}
