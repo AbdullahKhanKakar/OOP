{
 "cells": [
  {
   "cell_type": "code",
   "execution_count": 1,
   "id": "f79552da",
   "metadata": {},
   "outputs": [],
   "source": [
    "from enum import Enum "
   ]
  },
  {
   "cell_type": "code",
   "execution_count": 2,
   "id": "b81ae2ed",
   "metadata": {},
   "outputs": [],
   "source": [
    "class Season(Enum):\n",
    "    SPRING = 1\n",
    "    SUMMER = 2\n",
    "    WINTER = 3\n",
    "    AUTUMN = 4"
   ]
  },
  {
   "cell_type": "code",
   "execution_count": 3,
   "id": "1848f486",
   "metadata": {},
   "outputs": [
    {
     "name": "stdout",
     "output_type": "stream",
     "text": [
      "Season.SPRING\n"
     ]
    }
   ],
   "source": [
    "print(Season.SPRING)"
   ]
  },
  {
   "cell_type": "code",
   "execution_count": 4,
   "id": "3d8df31c",
   "metadata": {},
   "outputs": [
    {
     "name": "stdout",
     "output_type": "stream",
     "text": [
      "SPRING\n"
     ]
    }
   ],
   "source": [
    "print(Season.SPRING.name)"
   ]
  },
  {
   "cell_type": "code",
   "execution_count": 5,
   "id": "9f1acb49",
   "metadata": {},
   "outputs": [
    {
     "name": "stdout",
     "output_type": "stream",
     "text": [
      "1\n"
     ]
    }
   ],
   "source": [
    "print(Season.SPRING.value)"
   ]
  },
  {
   "cell_type": "code",
   "execution_count": 6,
   "id": "f74cbce8",
   "metadata": {},
   "outputs": [
    {
     "name": "stdout",
     "output_type": "stream",
     "text": [
      "<enum 'Season'>\n"
     ]
    }
   ],
   "source": [
    "print(type(Season.SPRING))"
   ]
  },
  {
   "cell_type": "code",
   "execution_count": 7,
   "id": "eb9619b6",
   "metadata": {},
   "outputs": [
    {
     "name": "stdout",
     "output_type": "stream",
     "text": [
      "[<Season.SPRING: 1>, <Season.SUMMER: 2>, <Season.WINTER: 3>, <Season.AUTUMN: 4>]\n"
     ]
    }
   ],
   "source": [
    "print(list(Season))"
   ]
  },
  {
   "cell_type": "code",
   "execution_count": 8,
   "id": "b51d19c1",
   "metadata": {},
   "outputs": [
    {
     "name": "stdout",
     "output_type": "stream",
     "text": [
      "<Season.SPRING: 1>\n"
     ]
    }
   ],
   "source": [
    "print(repr(Season.SPRING))"
   ]
  },
  {
   "cell_type": "code",
   "execution_count": 9,
   "id": "dddfb6f8",
   "metadata": {},
   "outputs": [],
   "source": [
    "class Colours(Enum):\n",
    "    RED = 1\n",
    "    BLUE = 2\n",
    "    GREEN = 3\n",
    "    ORANGE =4"
   ]
  },
  {
   "cell_type": "code",
   "execution_count": 10,
   "id": "2cf8e6a7",
   "metadata": {},
   "outputs": [
    {
     "name": "stdout",
     "output_type": "stream",
     "text": [
      "Colours.RED\n"
     ]
    }
   ],
   "source": [
    "print(Colours.RED)"
   ]
  },
  {
   "cell_type": "code",
   "execution_count": 11,
   "id": "ae3f9f6c",
   "metadata": {},
   "outputs": [
    {
     "name": "stdout",
     "output_type": "stream",
     "text": [
      "1\n"
     ]
    }
   ],
   "source": [
    "print(Colours.RED.value)"
   ]
  },
  {
   "cell_type": "code",
   "execution_count": 13,
   "id": "26befb4a",
   "metadata": {},
   "outputs": [
    {
     "name": "stdout",
     "output_type": "stream",
     "text": [
      "BLUE\n"
     ]
    }
   ],
   "source": [
    "print(Colours(2).name)"
   ]
  },
  {
   "cell_type": "code",
   "execution_count": 15,
   "id": "d85ff3bb",
   "metadata": {},
   "outputs": [
    {
     "name": "stdout",
     "output_type": "stream",
     "text": [
      "3\n"
     ]
    }
   ],
   "source": [
    "print(Colours['GREEN'].value)"
   ]
  },
  {
   "cell_type": "code",
   "execution_count": 16,
   "id": "56555731",
   "metadata": {},
   "outputs": [],
   "source": [
    "from enum import Enum,auto\n",
    "\n",
    "class Season(Enum):\n",
    "    SPRING = auto()\n",
    "    AUTMN = auto()\n",
    "    SUMMER = auto()\n",
    "    WINTER = auto()    "
   ]
  },
  {
   "cell_type": "code",
   "execution_count": 18,
   "id": "2aa2679b",
   "metadata": {},
   "outputs": [
    {
     "name": "stdout",
     "output_type": "stream",
     "text": [
      "1\n",
      "2\n",
      "3\n",
      "4\n"
     ]
    }
   ],
   "source": [
    "for season in Season:\n",
    "    print(season.value)"
   ]
  },
  {
   "cell_type": "code",
   "execution_count": 24,
   "id": "d100f388",
   "metadata": {},
   "outputs": [
    {
     "name": "stdout",
     "output_type": "stream",
     "text": [
      "Color.RED\n",
      "Color.GREEN\n",
      "Color.BLUE\n"
     ]
    }
   ],
   "source": [
    "from enum import Enum,unique\n",
    "\n",
    "@unique\n",
    "class Color(Enum):\n",
    "    RED = 1\n",
    "    GREEN = 2\n",
    "    BLUE = 3\n",
    "    \n",
    "for i in Color:\n",
    "    print(i)"
   ]
  },
  {
   "cell_type": "markdown",
   "id": "827e8c88",
   "metadata": {},
   "source": [
    "### Enumerations using API"
   ]
  },
  {
   "cell_type": "code",
   "execution_count": 26,
   "id": "1311e9ea",
   "metadata": {},
   "outputs": [],
   "source": [
    "from enum import Enum\n",
    "Season = Enum('Season',\"SPRING AUTOMN WINTER SUMMER\",start=1)"
   ]
  },
  {
   "cell_type": "code",
   "execution_count": 27,
   "id": "823e5e7e",
   "metadata": {},
   "outputs": [
    {
     "data": {
      "text/plain": [
       "1"
      ]
     },
     "execution_count": 27,
     "metadata": {},
     "output_type": "execute_result"
    }
   ],
   "source": [
    "Season.SPRING.value"
   ]
  },
  {
   "cell_type": "code",
   "execution_count": 28,
   "id": "30f9f9d1",
   "metadata": {},
   "outputs": [
    {
     "data": {
      "text/plain": [
       "4"
      ]
     },
     "execution_count": 28,
     "metadata": {},
     "output_type": "execute_result"
    }
   ],
   "source": [
    "Season.SUMMER.value"
   ]
  },
  {
   "cell_type": "code",
   "execution_count": 30,
   "id": "3a19bb31",
   "metadata": {},
   "outputs": [
    {
     "data": {
      "text/plain": [
       "1"
      ]
     },
     "execution_count": 30,
     "metadata": {},
     "output_type": "execute_result"
    }
   ],
   "source": [
    "Season['SPRING'].value"
   ]
  },
  {
   "cell_type": "code",
   "execution_count": null,
   "id": "b97f30bc",
   "metadata": {},
   "outputs": [],
   "source": []
  }
 ],
 "metadata": {
  "kernelspec": {
   "display_name": "Python 3 (ipykernel)",
   "language": "python",
   "name": "python3"
  },
  "language_info": {
   "codemirror_mode": {
    "name": "ipython",
    "version": 3
   },
   "file_extension": ".py",
   "mimetype": "text/x-python",
   "name": "python",
   "nbconvert_exporter": "python",
   "pygments_lexer": "ipython3",
   "version": "3.11.3"
  }
 },
 "nbformat": 4,
 "nbformat_minor": 5
}
